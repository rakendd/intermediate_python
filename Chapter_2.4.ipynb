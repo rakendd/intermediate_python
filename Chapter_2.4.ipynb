{
 "cells": [
  {
   "cell_type": "markdown",
   "metadata": {},
   "source": [
    "# List of Palindrome words"
   ]
  },
  {
   "cell_type": "code",
   "execution_count": 134,
   "metadata": {
    "collapsed": true
   },
   "outputs": [],
   "source": [
    "f = open('sowpods.txt', 'r')\n",
    "\n",
    "wordlist = [words.lower().strip() for words in f.readlines()]"
   ]
  },
  {
   "cell_type": "code",
   "execution_count": 155,
   "metadata": {
    "collapsed": true
   },
   "outputs": [],
   "source": [
    "def check_palindrome(word):\n",
    "    len_of_word = len(word)\n",
    "    for i in range(int(len_of_word / 2)):\n",
    "        is_palindrome = False\n",
    "        if word[i] == word[-(i + 1)]:\n",
    "            is_palindrome = True\n",
    "        else:\n",
    "            break\n",
    "    if is_palindrome:\n",
    "        palindrome.append(word)\n",
    "    return palindrome"
   ]
  },
  {
   "cell_type": "code",
   "execution_count": 156,
   "metadata": {},
   "outputs": [
    {
     "name": "stdout",
     "output_type": "stream",
     "text": [
      "['aa', 'aba', 'abba', 'acca', 'aga', 'aha', 'aia', 'aka', 'ala', 'alula', 'ama', 'ana', 'anana', 'anna', 'araara', 'ataata', 'aua', 'ava', 'awa', 'bib', 'bob', 'boob', 'bub', 'civic', 'dad', 'deed', 'degged', 'deified', 'deked', 'deled', 'denned', 'dered', 'dewed', 'did', 'dod', 'dud', 'ecce', 'ee', 'eke', 'eme', 'ene', 'ere', 'esse', 'eve', 'ewe', 'eye', 'gag', 'gig', 'goog', 'hadedah', 'hah', 'hajjah', 'halalah', 'hallah', 'heh', 'hoh', 'huh', 'iwi', 'kaiak', 'kak', 'kayak', 'keek', 'kook', 'lemel', 'level', 'madam', 'malam', 'mallam', 'mam', 'marram', 'mem', 'mim', 'minim', 'mm', 'mom', 'mum', 'naan', 'nan', 'non', 'noon', 'nun', 'obo', 'oho', 'ono', 'oo', 'oppo', 'otto', 'oxo', 'pap', 'peep', 'pep', 'pip', 'poop', 'pop', 'pullup', 'pup', 'radar', 'redder', 'refer', 'reifier', 'repaper', 'reviver', 'rotator', 'rotavator', 'rotor', 'sagas', 'samas', 'sedes', 'sees', 'seities', 'seles', 'selles', 'sememes', 'semes', 'seres', 'serres', 'sesses', 'sexes', 'shahs', 'simis', 'siris', 'sis', 'solos', 'sos', 'stats', 'stets', 'stots', 'succus', 'sulus', 'sus', 'susus', 'tallat', 'tat', 'tenet', 'terret', 'tet', 'tirrit', 'tit', 'toot', 'torot', 'tot', 'tut', 'ulu', 'umu', 'utu', 'vav', 'waw', 'wow', 'yay', 'ziz', 'zuz', 'zzz']\n"
     ]
    }
   ],
   "source": [
    "palindrome = []\n",
    "for word in wordlist:\n",
    "    check_palindrome(word)\n",
    "print(palindrome)"
   ]
  },
  {
   "cell_type": "code",
   "execution_count": 157,
   "metadata": {
    "scrolled": true
   },
   "outputs": [
    {
     "name": "stdout",
     "output_type": "stream",
     "text": [
      "152\n"
     ]
    }
   ],
   "source": [
    "print(len(palindrome))"
   ]
  },
  {
   "cell_type": "markdown",
   "metadata": {},
   "source": [
    "# Other way and finding the longest polindrome"
   ]
  },
  {
   "cell_type": "code",
   "execution_count": 158,
   "metadata": {},
   "outputs": [],
   "source": [
    "longest =''\n",
    "for word in wordlist:\n",
    "    is_palindrome = True\n",
    "    for index in range(int(len(word)/2)):\n",
    "        if word[index] != word[-(index+1)]:\n",
    "            is_palindrome = False\n",
    "        \n",
    "    if is_palindrome and len(word) > len(longest):\n",
    "        longest = word"
   ]
  },
  {
   "cell_type": "code",
   "execution_count": 159,
   "metadata": {},
   "outputs": [
    {
     "data": {
      "text/plain": [
       "'rotavator'"
      ]
     },
     "execution_count": 159,
     "metadata": {},
     "output_type": "execute_result"
    }
   ],
   "source": [
    "longest"
   ]
  },
  {
   "cell_type": "markdown",
   "metadata": {},
   "source": [
    "# Using the reversed function"
   ]
  },
  {
   "cell_type": "code",
   "execution_count": 193,
   "metadata": {
    "collapsed": true
   },
   "outputs": [],
   "source": [
    "word = 'rotavator'"
   ]
  },
  {
   "cell_type": "code",
   "execution_count": 194,
   "metadata": {},
   "outputs": [
    {
     "data": {
      "text/plain": [
       "True"
      ]
     },
     "execution_count": 194,
     "metadata": {},
     "output_type": "execute_result"
    }
   ],
   "source": [
    "list(word)==list(reversed(word))"
   ]
  },
  {
   "cell_type": "code",
   "execution_count": 187,
   "metadata": {
    "collapsed": true
   },
   "outputs": [],
   "source": [
    "for word in wordlist:\n",
    "    if word == ''.join(reversed(word)) and len(word) > len(longest):\n",
    "        longest = word\n",
    "        "
   ]
  },
  {
   "cell_type": "code",
   "execution_count": 188,
   "metadata": {
    "scrolled": true
   },
   "outputs": [
    {
     "data": {
      "text/plain": [
       "'rotavator'"
      ]
     },
     "execution_count": 188,
     "metadata": {},
     "output_type": "execute_result"
    }
   ],
   "source": [
    "longest"
   ]
  },
  {
   "cell_type": "markdown",
   "metadata": {},
   "source": [
    "# Pythonic way"
   ]
  },
  {
   "cell_type": "code",
   "execution_count": 208,
   "metadata": {
    "collapsed": true
   },
   "outputs": [],
   "source": [
    "for word in wordlist:\n",
    "    if word == word[::-1] and len(word) > len(longest):\n",
    "        longest = word\n",
    "        "
   ]
  },
  {
   "cell_type": "code",
   "execution_count": 210,
   "metadata": {},
   "outputs": [
    {
     "data": {
      "text/plain": [
       "'rotavator'"
      ]
     },
     "execution_count": 210,
     "metadata": {},
     "output_type": "execute_result"
    }
   ],
   "source": [
    "longest"
   ]
  }
 ],
 "metadata": {
  "kernelspec": {
   "display_name": "Python 3",
   "language": "python",
   "name": "python3"
  },
  "language_info": {
   "codemirror_mode": {
    "name": "ipython",
    "version": 3
   },
   "file_extension": ".py",
   "mimetype": "text/x-python",
   "name": "python",
   "nbconvert_exporter": "python",
   "pygments_lexer": "ipython3",
   "version": "3.6.3"
  }
 },
 "nbformat": 4,
 "nbformat_minor": 2
}
